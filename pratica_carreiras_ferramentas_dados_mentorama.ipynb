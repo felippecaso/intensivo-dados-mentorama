{
  "nbformat": 4,
  "nbformat_minor": 0,
  "metadata": {
    "colab": {
      "name": "pratica_carreiras_ferramentas_dados_mentorama.ipynb",
      "provenance": [],
      "authorship_tag": "ABX9TyMs7dxQN2KpJlKwX90sdUUy",
      "include_colab_link": true
    },
    "kernelspec": {
      "name": "python3",
      "display_name": "Python 3"
    },
    "language_info": {
      "name": "python"
    }
  },
  "cells": [
    {
      "cell_type": "markdown",
      "metadata": {
        "id": "view-in-github",
        "colab_type": "text"
      },
      "source": [
        "<a href=\"https://colab.research.google.com/github/felippecaso/intensivo-dados-mentorama/blob/main/pratica_carreiras_ferramentas_dados_mentorama.ipynb\" target=\"_parent\"><img src=\"https://colab.research.google.com/assets/colab-badge.svg\" alt=\"Open In Colab\"/></a>"
      ]
    },
    {
      "cell_type": "code",
      "execution_count": null,
      "metadata": {
        "id": "gGodU_IXyZpb"
      },
      "outputs": [],
      "source": [
        ""
      ]
    }
  ]
}